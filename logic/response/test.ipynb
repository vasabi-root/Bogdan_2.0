{
 "cells": [
  {
   "cell_type": "code",
   "execution_count": 1,
   "metadata": {},
   "outputs": [],
   "source": [
    "tokens = {\n",
    "    'p-b': 'nvvz0z4Kk9ipCJo5n-ev6Q%3D%3D',\n",
    "    'p-lat': 'oMiqarR2Ax3z3YY%2BUHMzDjI3bOp6UwZ4%2BkR0SvgR5w%3D%3D',\n",
    "}"
   ]
  },
  {
   "cell_type": "code",
   "execution_count": 2,
   "metadata": {},
   "outputs": [
    {
     "name": "stdout",
     "output_type": "stream",
     "text": [
      "Skipping ProxyFetcher due to No module named 'ballyregan'.\n"
     ]
    }
   ],
   "source": [
    "from poe_api_wrapper import AsyncPoeApi\n",
    "import asyncio\n"
   ]
  },
  {
   "cell_type": "code",
   "execution_count": 3,
   "metadata": {},
   "outputs": [
    {
     "name": "stderr",
     "output_type": "stream",
     "text": [
      "\u001b[32m2024-07-16 20:23:09.526\u001b[0m | \u001b[1mINFO    \u001b[0m | \u001b[36mpoe_api_wrapper.bundles\u001b[0m:\u001b[36minit_window\u001b[0m:\u001b[36m21\u001b[0m - \u001b[1mInitializing web data\u001b[0m\n",
      "\u001b[32m2024-07-16 20:23:10.654\u001b[0m | \u001b[1mINFO    \u001b[0m | \u001b[36mpoe_api_wrapper.bundles\u001b[0m:\u001b[36minit_window\u001b[0m:\u001b[36m41\u001b[0m - \u001b[1mWeb data initialized\u001b[0m\n",
      "\u001b[32m2024-07-16 20:23:10.658\u001b[0m | \u001b[1mINFO    \u001b[0m | \u001b[36mpoe_api_wrapper.bundles\u001b[0m:\u001b[36mget_form_key\u001b[0m:\u001b[36m82\u001b[0m - \u001b[1mRetrieved formkey successfully: 5bc3ffe148e9117242ebe7daa8cf5f43\u001b[0m\n",
      "\u001b[32m2024-07-16 20:23:11.843\u001b[0m | \u001b[1mINFO    \u001b[0m | \u001b[36mpoe_api_wrapper.async_api\u001b[0m:\u001b[36mcreate\u001b[0m:\u001b[36m89\u001b[0m - \u001b[1mAsync instance created\u001b[0m\n",
      "\u001b[32m2024-07-16 20:23:12.756\u001b[0m | \u001b[1mINFO    \u001b[0m | \u001b[36mpoe_api_wrapper.async_api\u001b[0m:\u001b[36msend_message\u001b[0m:\u001b[36m781\u001b[0m - \u001b[1mNew Thread created | 3g7d4lwr5klmaciqdi8\u001b[0m\n"
     ]
    },
    {
     "name": "stdout",
     "output_type": "stream",
     "text": [
      "Quantum computing is a new kind of computing that uses the principles of quantum mechanics, a branch of physics that explains how very tiny particles, like atoms and electrons, behave.\n",
      "\n",
      "In traditional computers, we use bits to store and process information. A bit can be either a 0 or a 1. But in quantum computers, we use quantum bits, or qubits, which can be both 0 and 1 at the same time. This is called superposition.\n",
      "\n",
      "Superposition allows quantum computers to perform many calculations simultaneously, which gives them the potential to solve certain problems much faster than traditional computers. It's like having multiple computers working on a task at the same time.\n",
      "\n",
      "Another important concept in quantum computing is entanglement. Entanglement allows qubits to be connected with each other in a way that the state of one qubit affects the state of the other, no matter how far apart they are. This enables quantum computers to process and store information in a highly interconnected way, which can also speed up calculations.\n",
      "\n",
      "Quantum computing is still in its early stages, and scientists are working on developing practical quantum computers that can solve complex problems efficiently. Once fully developed, quantum computers could revolutionize various fields, such as cryptography, drug discovery, optimization, and artificial intelligence, by solving problems that are currently beyond the reach of classical computers."
     ]
    },
    {
     "name": "stderr",
     "output_type": "stream",
     "text": [
      "\u001b[32m2024-07-16 20:53:20.464\u001b[0m | \u001b[33m\u001b[1mWARNING \u001b[0m | \u001b[36mpoe_api_wrapper.async_api\u001b[0m:\u001b[36mon_ws_close\u001b[0m:\u001b[36m299\u001b[0m - \u001b[33m\u001b[1mConnection to remote host was lost. Reconnecting...\u001b[0m\n",
      "c:\\max\\py\\bul_bot\\venv\\lib\\site-packages\\poe_api_wrapper\\async_api.py:365: RuntimeWarning: coroutine 'AsyncPoeApi.connect_ws' was never awaited\n",
      "  self.loop.run_in_executor(None, self.connect_ws())\n",
      "RuntimeWarning: Enable tracemalloc to get the object allocation traceback\n"
     ]
    }
   ],
   "source": [
    "\n",
    "async def main():\n",
    "    client = await AsyncPoeApi(tokens=tokens).create()\n",
    "    message = \"Explain quantum computing in simple terms\"\n",
    "    async for chunk in client.send_message(bot=\"gpt3_5\", message=message):\n",
    "        print(chunk[\"response\"], end='', flush=True)\n",
    "        \n",
    "asyncio.run(main())"
   ]
  },
  {
   "cell_type": "code",
   "execution_count": 4,
   "metadata": {},
   "outputs": [
    {
     "ename": "NameError",
     "evalue": "name 'client' is not defined",
     "output_type": "error",
     "traceback": [
      "\u001b[1;31m---------------------------------------------------------------------------\u001b[0m",
      "\u001b[1;31mNameError\u001b[0m                                 Traceback (most recent call last)",
      "Cell \u001b[1;32mIn[4], line 1\u001b[0m\n\u001b[1;32m----> 1\u001b[0m \u001b[43mclient\u001b[49m\n",
      "\u001b[1;31mNameError\u001b[0m: name 'client' is not defined"
     ]
    }
   ],
   "source": []
  }
 ],
 "metadata": {
  "kernelspec": {
   "display_name": "venv",
   "language": "python",
   "name": "python3"
  },
  "language_info": {
   "codemirror_mode": {
    "name": "ipython",
    "version": 3
   },
   "file_extension": ".py",
   "mimetype": "text/x-python",
   "name": "python",
   "nbconvert_exporter": "python",
   "pygments_lexer": "ipython3",
   "version": "3.10.6"
  }
 },
 "nbformat": 4,
 "nbformat_minor": 2
}
