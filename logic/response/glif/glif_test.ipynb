{
 "cells": [
  {
   "cell_type": "code",
   "execution_count": 5,
   "metadata": {},
   "outputs": [],
   "source": [
    "import requests\n",
    "import os\n",
    "from dotenv import load_dotenv\n",
    "import json\n",
    "from bs4 import BeautifulSoup"
   ]
  },
  {
   "cell_type": "code",
   "execution_count": 2,
   "metadata": {},
   "outputs": [
    {
     "data": {
      "text/plain": [
       "True"
      ]
     },
     "execution_count": 2,
     "metadata": {},
     "output_type": "execute_result"
    }
   ],
   "source": [
    "load_dotenv('../../../config\\.env')"
   ]
  },
  {
   "cell_type": "code",
   "execution_count": 3,
   "metadata": {},
   "outputs": [
    {
     "data": {
      "text/plain": [
       "'56bcead8060d5f4491c67c018e0c6b8d'"
      ]
     },
     "execution_count": 3,
     "metadata": {},
     "output_type": "execute_result"
    }
   ],
   "source": [
    "GLIF_TOKEN = os.getenv('GLIF_TOKEN')\n",
    "GLIF_TOKEN"
   ]
  },
  {
   "cell_type": "code",
   "execution_count": 18,
   "metadata": {},
   "outputs": [
    {
     "data": {
      "text/plain": [
       "b'{\"id\":\"clxtc53mi0000ghv10g6irjqj\",\"inputs\":{\"input1\":\"Roman initiated the discussion, mentioning task priorities and upcoming improvements. He also mentions aiogram and its relevance to any bot API.\"},\"output\":\"https://res.cloudinary.com/dzkwltgyd/image/upload/v1721414542/glif-run-outputs/izpqrww3xkwsgtitakcn.png\",\"outputFull\":{\"type\":\"IMAGE\",\"value\":\"https://res.cloudinary.com/dzkwltgyd/image/upload/v1721414542/glif-run-outputs/izpqrww3xkwsgtitakcn.png\",\"width\":1280,\"height\":960,\"html\":\"<div style=\\\\\"width: 640px; height: 480px; background-color: #ffffff; position: relative; overflow: hidden;\\\\\">\\\\n  \\\\n  <link href=\\\\\"https://fonts.googleapis.com/css?family=Anton\\\\\" rel=\\\\\"stylesheet\\\\\" />\\\\n\\\\n  \\\\n  <div style=\\\\\"position: absolute; top: 0px; left: 0px; transform: translate(188px, 239.5px); display: flex; align-items: center; justify-content: center; width: 266px; height: 242px; margin: 0px; padding: 0px; background-color: transparent;  border-radius: 0px; \\\\\">\\\\n    <img src=\\\\\"https://res.cloudinary.com/dkpfhyd71-comfy/image/upload/v1721414539/glif-comfy/a664568c-3ce5-41f5-a604-5d9d3e621d23.webp\\\\\" style=\\\\\"width: auto; height: auto; max-width: 100%; max-height: 100%; object-fit: contain; border-radius: 0px; user-select: none; \\\\\" alt=\\\\\"\\\\\" />\\\\n  </div>\\\\n\\\\n<p style=\\\\\"position: absolute; top: 0px; left: 0px; transform: translate(42px, 18px); display: flex; align-items: flex-start; justify-content: center; width: 570px; height: 31px; margin: 0px; padding: 0px; font-size: 25px; font-family: Anton; font-weight: normal; color: black; text-decoration: none; font-style: normal; white-space: break-spaces; overflow: visible; \\\\\">THE TECH LEAD</p>\\\\n<p style=\\\\\"position: absolute; top: 0px; left: 0px; transform: translate(25px, 70px); display: flex; align-items: flex-start; justify-content: center; width: 190px; height: 71px; margin: 0px; padding: 0px; font-size: 14px; font-family: Anton; font-weight: normal; color: #000000; text-decoration: none; font-style: normal; white-space: break-spaces; overflow: visible; \\\\\">\\\\\"Let\\'s prioritize our backlog\\\\\" -- hasn\\'t looked at Jira in months</p>\\\\n<p style=\\\\\"position: absolute; top: 0px; left: 0px; transform: translate(426px, 63px); display: flex; align-items: flex-start; justify-content: center; width: 205px; height: 71px; margin: 0px; padding: 0px; font-size: 14px; font-family: Anton; font-weight: normal; color: black; text-decoration: none; font-style: normal; white-space: break-spaces; overflow: visible; \\\\\">\\\\\"I\\'ll ping Roman about that\\\\\" -- Roman left the company 6 months ago</p>\\\\n<p style=\\\\\"position: absolute; top: 0px; left: 0px; transform: translate(454px, 166px); display: flex; align-items: flex-start; justify-content: center; width: 184px; height: 69px; margin: 0px; padding: 0px; font-size: 16px; font-family: Anton; font-weight: normal; color: black; text-decoration: none; font-style: normal; white-space: break-spaces; overflow: visible; \\\\\">\\\\\"We\\'re agile\\\\\" -- waterfall with stand-ups</p>\\\\n<p style=\\\\\"position: absolute; top: 0px; left: 0px; transform: translate(479px, 277px); display: flex; align-items: flex-start; justify-content: center; width: 138px; height: 82px; margin: 0px; padding: 0px; font-size: 17px; font-family: Anton; font-weight: normal; color: black; text-decoration: none; font-style: normal; white-space: break-spaces; overflow: visible; \\\\\">\\\\\"Let\\'s schedule a quick sync\\\\\" -- 3-hour meeting with no agenda</p>\\\\n<p style=\\\\\"position: absolute; top: 0px; left: 0px; transform: translate(232px, 73px); display: flex; align-items: flex-start; justify-content: center; width: 184px; height: 69px; margin: 0px; padding: 0px; font-size: 14px; font-family: Anton; font-weight: normal; color: black; text-decoration: none; font-style: normal; white-space: break-spaces; overflow: visible; \\\\\">\\\\\"I\\'m hands-on\\\\\" -- hasn\\'t written code since 2015</p>\\\\n<p style=\\\\\"position: absolute; top: 0px; left: 0px; transform: translate(232px, 158px); display: flex; align-items: flex-start; justify-content: center; width: 184px; height: 69px; margin: 0px; padding: 0px; font-size: 17px; font-family: Anton; font-weight: normal; color: #363535; text-decoration: none; font-style: normal; white-space: break-spaces; overflow: visible; \\\\\">\\\\\"We\\'re using cutting-edge tech\\\\\" -- still runs Windows XP</p>\\\\n<p style=\\\\\"position: absolute; top: 0px; left: 0px; transform: translate(23px, 155px); display: flex; align-items: flex-start; justify-content: center; width: 185px; height: 67px; margin: 0px; padding: 0px; font-size: 14px; font-family: Anton; font-weight: normal; color: #222020; text-decoration: none; font-style: normal; white-space: break-spaces; overflow: visible; \\\\\">\\\\\"We need to improve our code quality\\\\\" -- copy-pastes from StackOverflow</p>\\\\n<p style=\\\\\"position: absolute; top: 0px; left: 0px; transform: translate(15px, 293px); display: flex; align-items: flex-start; justify-content: center; width: 180px; height: 82px; margin: 0px; padding: 0px; font-size: 17px; font-family: Anton; font-weight: normal; color: #343232; text-decoration: none; font-style: normal; white-space: break-spaces; overflow: visible; \\\\\">\\\\\"aiogram is crucial for our bot API\\\\\" -- can\\'t explain what API stands for</p>\\\\n\\\\n  <div style=\\\\\"position: absolute; top: 0px; left: 0px; transform: translate(554px, 432.5px); display: flex; align-items: center; justify-content: center; width: 80px; height: 41px; margin: 0px; padding: 0px; background-color: transparent;  border-radius: 0px; \\\\\">\\\\n    <img src=\\\\\"https://res.cloudinary.com/dzkwltgyd/image/upload/v1719301688/canvas-block-production/vol8i5mnu74j1jbulxsv.jpg\\\\\" style=\\\\\"width: auto; height: auto; max-width: 100%; max-height: 100%; object-fit: contain; border-radius: 0px; user-select: none; \\\\\" alt=\\\\\"\\\\\" />\\\\n  </div>\\\\n\\\\n</div>\"}}'"
      ]
     },
     "execution_count": 18,
     "metadata": {},
     "output_type": "execute_result"
    }
   ],
   "source": [
    "response = requests.post(\n",
    "    \"https://simple-api.glif.app\",\n",
    "    json={\"id\": \"clxtc53mi0000ghv10g6irjqj\", \"inputs\": [\"Roman initiated the discussion, mentioning task priorities and upcoming improvements. He also mentions aiogram and its relevance to any bot API.\"]},\n",
    "    headers={\"Authorization\": f\"Bearer {GLIF_TOKEN}\"},\n",
    ")\n",
    "response.content"
   ]
  },
  {
   "cell_type": "code",
   "execution_count": 19,
   "metadata": {},
   "outputs": [
    {
     "data": {
      "text/plain": [
       "{'id': 'clxtc53mi0000ghv10g6irjqj',\n",
       " 'inputs': {'input1': 'Roman initiated the discussion, mentioning task priorities and upcoming improvements. He also mentions aiogram and its relevance to any bot API.'},\n",
       " 'output': 'https://res.cloudinary.com/dzkwltgyd/image/upload/v1721414542/glif-run-outputs/izpqrww3xkwsgtitakcn.png',\n",
       " 'outputFull': {'type': 'IMAGE',\n",
       "  'value': 'https://res.cloudinary.com/dzkwltgyd/image/upload/v1721414542/glif-run-outputs/izpqrww3xkwsgtitakcn.png',\n",
       "  'width': 1280,\n",
       "  'height': 960,\n",
       "  'html': '<div style=\"width: 640px; height: 480px; background-color: #ffffff; position: relative; overflow: hidden;\">\\n  \\n  <link href=\"https://fonts.googleapis.com/css?family=Anton\" rel=\"stylesheet\" />\\n\\n  \\n  <div style=\"position: absolute; top: 0px; left: 0px; transform: translate(188px, 239.5px); display: flex; align-items: center; justify-content: center; width: 266px; height: 242px; margin: 0px; padding: 0px; background-color: transparent;  border-radius: 0px; \">\\n    <img src=\"https://res.cloudinary.com/dkpfhyd71-comfy/image/upload/v1721414539/glif-comfy/a664568c-3ce5-41f5-a604-5d9d3e621d23.webp\" style=\"width: auto; height: auto; max-width: 100%; max-height: 100%; object-fit: contain; border-radius: 0px; user-select: none; \" alt=\"\" />\\n  </div>\\n\\n<p style=\"position: absolute; top: 0px; left: 0px; transform: translate(42px, 18px); display: flex; align-items: flex-start; justify-content: center; width: 570px; height: 31px; margin: 0px; padding: 0px; font-size: 25px; font-family: Anton; font-weight: normal; color: black; text-decoration: none; font-style: normal; white-space: break-spaces; overflow: visible; \">THE TECH LEAD</p>\\n<p style=\"position: absolute; top: 0px; left: 0px; transform: translate(25px, 70px); display: flex; align-items: flex-start; justify-content: center; width: 190px; height: 71px; margin: 0px; padding: 0px; font-size: 14px; font-family: Anton; font-weight: normal; color: #000000; text-decoration: none; font-style: normal; white-space: break-spaces; overflow: visible; \">\"Let\\'s prioritize our backlog\" -- hasn\\'t looked at Jira in months</p>\\n<p style=\"position: absolute; top: 0px; left: 0px; transform: translate(426px, 63px); display: flex; align-items: flex-start; justify-content: center; width: 205px; height: 71px; margin: 0px; padding: 0px; font-size: 14px; font-family: Anton; font-weight: normal; color: black; text-decoration: none; font-style: normal; white-space: break-spaces; overflow: visible; \">\"I\\'ll ping Roman about that\" -- Roman left the company 6 months ago</p>\\n<p style=\"position: absolute; top: 0px; left: 0px; transform: translate(454px, 166px); display: flex; align-items: flex-start; justify-content: center; width: 184px; height: 69px; margin: 0px; padding: 0px; font-size: 16px; font-family: Anton; font-weight: normal; color: black; text-decoration: none; font-style: normal; white-space: break-spaces; overflow: visible; \">\"We\\'re agile\" -- waterfall with stand-ups</p>\\n<p style=\"position: absolute; top: 0px; left: 0px; transform: translate(479px, 277px); display: flex; align-items: flex-start; justify-content: center; width: 138px; height: 82px; margin: 0px; padding: 0px; font-size: 17px; font-family: Anton; font-weight: normal; color: black; text-decoration: none; font-style: normal; white-space: break-spaces; overflow: visible; \">\"Let\\'s schedule a quick sync\" -- 3-hour meeting with no agenda</p>\\n<p style=\"position: absolute; top: 0px; left: 0px; transform: translate(232px, 73px); display: flex; align-items: flex-start; justify-content: center; width: 184px; height: 69px; margin: 0px; padding: 0px; font-size: 14px; font-family: Anton; font-weight: normal; color: black; text-decoration: none; font-style: normal; white-space: break-spaces; overflow: visible; \">\"I\\'m hands-on\" -- hasn\\'t written code since 2015</p>\\n<p style=\"position: absolute; top: 0px; left: 0px; transform: translate(232px, 158px); display: flex; align-items: flex-start; justify-content: center; width: 184px; height: 69px; margin: 0px; padding: 0px; font-size: 17px; font-family: Anton; font-weight: normal; color: #363535; text-decoration: none; font-style: normal; white-space: break-spaces; overflow: visible; \">\"We\\'re using cutting-edge tech\" -- still runs Windows XP</p>\\n<p style=\"position: absolute; top: 0px; left: 0px; transform: translate(23px, 155px); display: flex; align-items: flex-start; justify-content: center; width: 185px; height: 67px; margin: 0px; padding: 0px; font-size: 14px; font-family: Anton; font-weight: normal; color: #222020; text-decoration: none; font-style: normal; white-space: break-spaces; overflow: visible; \">\"We need to improve our code quality\" -- copy-pastes from StackOverflow</p>\\n<p style=\"position: absolute; top: 0px; left: 0px; transform: translate(15px, 293px); display: flex; align-items: flex-start; justify-content: center; width: 180px; height: 82px; margin: 0px; padding: 0px; font-size: 17px; font-family: Anton; font-weight: normal; color: #343232; text-decoration: none; font-style: normal; white-space: break-spaces; overflow: visible; \">\"aiogram is crucial for our bot API\" -- can\\'t explain what API stands for</p>\\n\\n  <div style=\"position: absolute; top: 0px; left: 0px; transform: translate(554px, 432.5px); display: flex; align-items: center; justify-content: center; width: 80px; height: 41px; margin: 0px; padding: 0px; background-color: transparent;  border-radius: 0px; \">\\n    <img src=\"https://res.cloudinary.com/dzkwltgyd/image/upload/v1719301688/canvas-block-production/vol8i5mnu74j1jbulxsv.jpg\" style=\"width: auto; height: auto; max-width: 100%; max-height: 100%; object-fit: contain; border-radius: 0px; user-select: none; \" alt=\"\" />\\n  </div>\\n\\n</div>'}}"
      ]
     },
     "execution_count": 19,
     "metadata": {},
     "output_type": "execute_result"
    }
   ],
   "source": [
    "res = json.loads(response.content.decode('utf-8'))\n",
    "res"
   ]
  },
  {
   "cell_type": "code",
   "execution_count": 20,
   "metadata": {},
   "outputs": [
    {
     "name": "stdout",
     "output_type": "stream",
     "text": [
      "<div style=\"width: 640px; height: 480px; background-color: #ffffff; position: relative; overflow: hidden;\">\n",
      " <link href=\"https://fonts.googleapis.com/css?family=Anton\" rel=\"stylesheet\"/>\n",
      " <div style=\"position: absolute; top: 0px; left: 0px; transform: translate(188px, 239.5px); display: flex; align-items: center; justify-content: center; width: 266px; height: 242px; margin: 0px; padding: 0px; background-color: transparent;  border-radius: 0px; \">\n",
      "  <img alt=\"\" src=\"https://res.cloudinary.com/dkpfhyd71-comfy/image/upload/v1721414539/glif-comfy/a664568c-3ce5-41f5-a604-5d9d3e621d23.webp\" style=\"width: auto; height: auto; max-width: 100%; max-height: 100%; object-fit: contain; border-radius: 0px; user-select: none; \"/>\n",
      " </div>\n",
      " <p style=\"position: absolute; top: 0px; left: 0px; transform: translate(42px, 18px); display: flex; align-items: flex-start; justify-content: center; width: 570px; height: 31px; margin: 0px; padding: 0px; font-size: 25px; font-family: Anton; font-weight: normal; color: black; text-decoration: none; font-style: normal; white-space: break-spaces; overflow: visible; \">\n",
      "  THE TECH LEAD\n",
      " </p>\n",
      " <p style=\"position: absolute; top: 0px; left: 0px; transform: translate(25px, 70px); display: flex; align-items: flex-start; justify-content: center; width: 190px; height: 71px; margin: 0px; padding: 0px; font-size: 14px; font-family: Anton; font-weight: normal; color: #000000; text-decoration: none; font-style: normal; white-space: break-spaces; overflow: visible; \">\n",
      "  \"Let's prioritize our backlog\" -- hasn't looked at Jira in months\n",
      " </p>\n",
      " <p style=\"position: absolute; top: 0px; left: 0px; transform: translate(426px, 63px); display: flex; align-items: flex-start; justify-content: center; width: 205px; height: 71px; margin: 0px; padding: 0px; font-size: 14px; font-family: Anton; font-weight: normal; color: black; text-decoration: none; font-style: normal; white-space: break-spaces; overflow: visible; \">\n",
      "  \"I'll ping Roman about that\" -- Roman left the company 6 months ago\n",
      " </p>\n",
      " <p style=\"position: absolute; top: 0px; left: 0px; transform: translate(454px, 166px); display: flex; align-items: flex-start; justify-content: center; width: 184px; height: 69px; margin: 0px; padding: 0px; font-size: 16px; font-family: Anton; font-weight: normal; color: black; text-decoration: none; font-style: normal; white-space: break-spaces; overflow: visible; \">\n",
      "  \"We're agile\" -- waterfall with stand-ups\n",
      " </p>\n",
      " <p style=\"position: absolute; top: 0px; left: 0px; transform: translate(479px, 277px); display: flex; align-items: flex-start; justify-content: center; width: 138px; height: 82px; margin: 0px; padding: 0px; font-size: 17px; font-family: Anton; font-weight: normal; color: black; text-decoration: none; font-style: normal; white-space: break-spaces; overflow: visible; \">\n",
      "  \"Let's schedule a quick sync\" -- 3-hour meeting with no agenda\n",
      " </p>\n",
      " <p style=\"position: absolute; top: 0px; left: 0px; transform: translate(232px, 73px); display: flex; align-items: flex-start; justify-content: center; width: 184px; height: 69px; margin: 0px; padding: 0px; font-size: 14px; font-family: Anton; font-weight: normal; color: black; text-decoration: none; font-style: normal; white-space: break-spaces; overflow: visible; \">\n",
      "  \"I'm hands-on\" -- hasn't written code since 2015\n",
      " </p>\n",
      " <p style=\"position: absolute; top: 0px; left: 0px; transform: translate(232px, 158px); display: flex; align-items: flex-start; justify-content: center; width: 184px; height: 69px; margin: 0px; padding: 0px; font-size: 17px; font-family: Anton; font-weight: normal; color: #363535; text-decoration: none; font-style: normal; white-space: break-spaces; overflow: visible; \">\n",
      "  \"We're using cutting-edge tech\" -- still runs Windows XP\n",
      " </p>\n",
      " <p style=\"position: absolute; top: 0px; left: 0px; transform: translate(23px, 155px); display: flex; align-items: flex-start; justify-content: center; width: 185px; height: 67px; margin: 0px; padding: 0px; font-size: 14px; font-family: Anton; font-weight: normal; color: #222020; text-decoration: none; font-style: normal; white-space: break-spaces; overflow: visible; \">\n",
      "  \"We need to improve our code quality\" -- copy-pastes from StackOverflow\n",
      " </p>\n",
      " <p style=\"position: absolute; top: 0px; left: 0px; transform: translate(15px, 293px); display: flex; align-items: flex-start; justify-content: center; width: 180px; height: 82px; margin: 0px; padding: 0px; font-size: 17px; font-family: Anton; font-weight: normal; color: #343232; text-decoration: none; font-style: normal; white-space: break-spaces; overflow: visible; \">\n",
      "  \"aiogram is crucial for our bot API\" -- can't explain what API stands for\n",
      " </p>\n",
      " <div style=\"position: absolute; top: 0px; left: 0px; transform: translate(554px, 432.5px); display: flex; align-items: center; justify-content: center; width: 80px; height: 41px; margin: 0px; padding: 0px; background-color: transparent;  border-radius: 0px; \">\n",
      "  <img alt=\"\" src=\"https://res.cloudinary.com/dzkwltgyd/image/upload/v1719301688/canvas-block-production/vol8i5mnu74j1jbulxsv.jpg\" style=\"width: auto; height: auto; max-width: 100%; max-height: 100%; object-fit: contain; border-radius: 0px; user-select: none; \"/>\n",
      " </div>\n",
      "</div>\n",
      "\n"
     ]
    }
   ],
   "source": [
    "soup = BeautifulSoup(res['outputFull']['html'], 'html.parser')\n",
    "print(soup.prettify())"
   ]
  },
  {
   "cell_type": "code",
   "execution_count": 21,
   "metadata": {},
   "outputs": [
    {
     "name": "stdout",
     "output_type": "stream",
     "text": [
      "THE TECH LEAD\n",
      "\"Let's prioritize our backlog\" -- hasn't looked at Jira in months\n",
      "\"I'll ping Roman about that\" -- Roman left the company 6 months ago\n",
      "\"We're agile\" -- waterfall with stand-ups\n",
      "\"Let's schedule a quick sync\" -- 3-hour meeting with no agenda\n",
      "\"I'm hands-on\" -- hasn't written code since 2015\n",
      "\"We're using cutting-edge tech\" -- still runs Windows XP\n",
      "\"We need to improve our code quality\" -- copy-pastes from StackOverflow\n",
      "\"aiogram is crucial for our bot API\" -- can't explain what API stands for\n"
     ]
    }
   ],
   "source": [
    "paragraphs = soup.find_all('p')\n",
    "for p in paragraphs:\n",
    "    print(p.text)"
   ]
  }
 ],
 "metadata": {
  "kernelspec": {
   "display_name": "venv",
   "language": "python",
   "name": "python3"
  },
  "language_info": {
   "codemirror_mode": {
    "name": "ipython",
    "version": 3
   },
   "file_extension": ".py",
   "mimetype": "text/x-python",
   "name": "python",
   "nbconvert_exporter": "python",
   "pygments_lexer": "ipython3",
   "version": "3.10.6"
  }
 },
 "nbformat": 4,
 "nbformat_minor": 2
}
