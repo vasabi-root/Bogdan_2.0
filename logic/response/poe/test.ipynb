{
 "cells": [
  {
   "cell_type": "code",
   "execution_count": 1,
   "metadata": {},
   "outputs": [
    {
     "name": "stdout",
     "output_type": "stream",
     "text": [
      "Skipping ProxyFetcher due to No module named 'ballyregan'.\n"
     ]
    }
   ],
   "source": [
    "from poe_api_wrapper import AsyncPoeApi\n",
    "import asyncio\n",
    "from dotenv import load_dotenv\n",
    "import os\n",
    "import json\n",
    "from pprint import pprint"
   ]
  },
  {
   "cell_type": "code",
   "execution_count": 2,
   "metadata": {},
   "outputs": [
    {
     "name": "stdout",
     "output_type": "stream",
     "text": [
      "IPython autoawait is `on`, and set to use `asyncio`\n"
     ]
    }
   ],
   "source": [
    "%autoawait"
   ]
  },
  {
   "cell_type": "code",
   "execution_count": 3,
   "metadata": {},
   "outputs": [
    {
     "data": {
      "text/plain": [
       "True"
      ]
     },
     "execution_count": 3,
     "metadata": {},
     "output_type": "execute_result"
    }
   ],
   "source": [
    "load_dotenv('../../../config\\.env')"
   ]
  },
  {
   "cell_type": "code",
   "execution_count": 4,
   "metadata": {},
   "outputs": [
    {
     "name": "stdout",
     "output_type": "stream",
     "text": [
      "nvvz0z4Kk9ipCJo5n-ev6Q%3D%3D oMiqarR2Ax3z3YY%2BUHMzDjI3bOp6UwZ4%2BkR0SvgR5w%3D%3D\n"
     ]
    }
   ],
   "source": [
    "p_b = os.getenv(\"poe_p_b\")\n",
    "p_lat = os.getenv(\"poe_p_lat\")\n",
    "print(p_b, p_lat)"
   ]
  },
  {
   "cell_type": "code",
   "execution_count": 7,
   "metadata": {},
   "outputs": [],
   "source": [
    "tokens = {\n",
    "    'p-b': p_b, \n",
    "    'p-lat': p_lat\n",
    "}"
   ]
  },
  {
   "cell_type": "code",
   "execution_count": 11,
   "metadata": {},
   "outputs": [
    {
     "name": "stderr",
     "output_type": "stream",
     "text": [
      "\u001b[32m2024-07-24 01:19:57.236\u001b[0m | \u001b[1mINFO    \u001b[0m | \u001b[36mpoe_api_wrapper.bundles\u001b[0m:\u001b[36minit_window\u001b[0m:\u001b[36m21\u001b[0m - \u001b[1mInitializing web data\u001b[0m\n",
      "\u001b[32m2024-07-24 01:19:58.174\u001b[0m | \u001b[1mINFO    \u001b[0m | \u001b[36mpoe_api_wrapper.bundles\u001b[0m:\u001b[36minit_window\u001b[0m:\u001b[36m41\u001b[0m - \u001b[1mWeb data initialized\u001b[0m\n",
      "\u001b[32m2024-07-24 01:19:58.177\u001b[0m | \u001b[1mINFO    \u001b[0m | \u001b[36mpoe_api_wrapper.bundles\u001b[0m:\u001b[36mget_form_key\u001b[0m:\u001b[36m82\u001b[0m - \u001b[1mRetrieved formkey successfully: 5bc3ffe148e9117242ebe7daa8cf5f43\u001b[0m\n",
      "\u001b[32m2024-07-24 01:19:59.291\u001b[0m | \u001b[1mINFO    \u001b[0m | \u001b[36mpoe_api_wrapper.async_api\u001b[0m:\u001b[36mcreate\u001b[0m:\u001b[36m89\u001b[0m - \u001b[1mAsync instance created\u001b[0m\n"
     ]
    },
    {
     "name": "stderr",
     "output_type": "stream",
     "text": [
      "\u001b[32m2024-07-24 02:33:06.017\u001b[0m | \u001b[33m\u001b[1mWARNING \u001b[0m | \u001b[36mpoe_api_wrapper.async_api\u001b[0m:\u001b[36mon_ws_close\u001b[0m:\u001b[36m299\u001b[0m - \u001b[33m\u001b[1mConnection to remote host was lost. Reconnecting...\u001b[0m\n"
     ]
    }
   ],
   "source": [
    "client = await AsyncPoeApi(tokens=tokens).create()\n"
   ]
  },
  {
   "cell_type": "code",
   "execution_count": 16,
   "metadata": {},
   "outputs": [
    {
     "name": "stdout",
     "output_type": "stream",
     "text": [
      "['claude_3_igloo', 'gpt4_o_mini', 'gpt4_o', 'gemini_1_5_flash', 'gemini_1_5_pro', 'playgroundv25', 'ideogram', 'claude_2_1_bamboo', 'claude_3_haiku', 'claude_2_1_cedar', 'dalle3', 'gemini_1_5_flash_128k', 'gemini_1_5_pro_128k', 'gemini_1_5_flash_1m', 'gemini_1_5_pro_1m', 'gpt4_o_mini_128k', 'gpt4_o_128k', 'beaver', 'gemini_pro', 'stablediffusion3', 'sd3turbo', 'stablediffusionxl', 'chinchilla', 'vizcacha', 'claude_3_igloo_200k', 'claude_3_sonnet_200k', 'claude_3_haiku_200k', 'claude_3_opus_200k', 'mixtral8x7bchat', 'claude_2_short', 'a2_2', 'mythomaxl213b', 'llama_2_70b_chat', 'a2', 'a2_100k']\n"
     ]
    }
   ],
   "source": [
    "print(await client.get_available_creation_models())"
   ]
  },
  {
   "cell_type": "code",
   "execution_count": 18,
   "metadata": {},
   "outputs": [
    {
     "name": "stderr",
     "output_type": "stream",
     "text": [
      "\u001b[32m2024-07-24 01:34:04.747\u001b[0m | \u001b[1mINFO    \u001b[0m | \u001b[36mpoe_api_wrapper.async_api\u001b[0m:\u001b[36msend_message\u001b[0m:\u001b[36m781\u001b[0m - \u001b[1mNew Thread created | 3gxf2hhyg48pm0j92oa\u001b[0m\n"
     ]
    },
    {
     "name": "stdout",
     "output_type": "stream",
     "text": [
      "Quantum computing is a type of computing that uses the principles of quantum mechanics, which is the science that explains how very small particles like atoms and photons behave. In simple terms, here are the key points:\n",
      "\n",
      "1. **Bits vs. Qubits**: Traditional computers use bits as the basic unit of information, which can be either a 0 or a 1. Quantum computers use qubits, which can be both 0 and 1 at the same time thanks to a property called superposition. This allows quantum computers to process a massive amount of information simultaneously.\n",
      "\n",
      "2. **Entanglement**: Qubits can be entangled, meaning the state of one qubit is directly related to the state of another, no matter how far apart they are. This property enables quantum computers to perform complex calculations more efficiently than classical computers.\n",
      "\n",
      "3. **Parallelism**: Because of superposition and entanglement, quantum computers can explore many possible solutions at once, potentially solving certain problems much faster than traditional computers.\n",
      "\n",
      "Overall, quantum computing holds the promise of revolutionizing fields such as cryptography, optimization, and drug discovery by solving problems that are currently too complex for classical computers."
     ]
    }
   ],
   "source": [
    "message = \"Explain quantum computing in simple terms\"\n",
    "async for chunk in client.send_message(bot=\"claude_3_haiku\", message=message):\n",
    "    print(chunk[\"response\"], end='', flush=True)"
   ]
  },
  {
   "cell_type": "code",
   "execution_count": 19,
   "metadata": {},
   "outputs": [],
   "source": [
    "tg_chat = json.load(open('../../../result.json', encoding='utf-8'))"
   ]
  },
  {
   "cell_type": "code",
   "execution_count": 20,
   "metadata": {},
   "outputs": [],
   "source": [
    "messages = tg_chat['messages']"
   ]
  },
  {
   "cell_type": "code",
   "execution_count": 21,
   "metadata": {},
   "outputs": [],
   "source": [
    "msgs = [{'name': m['from'], 'text': m['text']} for m in messages if m['type'] == 'message' and isinstance(m['text'], str)]"
   ]
  },
  {
   "cell_type": "code",
   "execution_count": 22,
   "metadata": {},
   "outputs": [
    {
     "data": {
      "text/plain": [
       "'Максим: я не верил\\nКовтун Роман: у них ограничение на трафик сильное\\nКовтун Роман: но на халяву и уксус — сахар)\\nКовтун Роман: ну вроде бы, я сделал очистку очереди\\nнадо проверить\\nКовтун Роман: сейчас я запущу бота\\nКовтун Роман: и тут есть пара вариантов развития событий\\nКовтун Роман: либо он сейчас начнёт нам отвечать с шансом 10% на каждое сообщение с момента его отключения\\nлибо он всё же отчисти очередь\\nКовтун Роман: о\\nКовтун Роман: ща я просто сделаю шанс по умолчанию 0\\nКовтун Роман: чёт не додумался срзу\\nКовтун Роман: ну погнали\\nКовтун Роман: эх\\nпроизошёл скрытый вариант\\nTypeError(((\\nКовтун Роман: \\nКовтун Роман: что-то налажал с асинками\\nКовтун Роман: потом решу...\\nэто надо вникать в корутины\\n\\nMember to Summarize: Ковтун Роман'"
      ]
     },
     "execution_count": 22,
     "metadata": {},
     "output_type": "execute_result"
    }
   ],
   "source": [
    "msg_for_bot = '\\n'.join([f\"{m['name']}: {m['text']}\" for m in msgs[-15:]]) + f'\\n\\nMember to Summarize: {msgs[-1][\"name\"]}'\n",
    "msg_for_bot"
   ]
  },
  {
   "cell_type": "code",
   "execution_count": null,
   "metadata": {},
   "outputs": [],
   "source": [
    "bot = 'sammarisator'\n",
    "sammarisator_bot = 'sammarisator'"
   ]
  },
  {
   "cell_type": "code",
   "execution_count": 26,
   "metadata": {},
   "outputs": [
    {
     "name": "stderr",
     "output_type": "stream",
     "text": [
      "\u001b[32m2024-07-24 01:42:44.988\u001b[0m | \u001b[1mINFO    \u001b[0m | \u001b[36mpoe_api_wrapper.async_api\u001b[0m:\u001b[36msend_message\u001b[0m:\u001b[36m781\u001b[0m - \u001b[1mNew Thread created | 3gx65rvdszoshw3j3xb\u001b[0m\n"
     ]
    },
    {
     "name": "stdout",
     "output_type": "stream",
     "text": [
      "Ковтун Роман выразил свое недовольство по поводу возникшей ошибки в коде, упомянув, что он \"налажал с асинками\" и что ему нужно будет разобраться с корутинами позже. Он также обсудил свои действия по очистке очереди сообщений и запустил бота с намерением изменить вероятность ответов на 0, чтобы избежать случайных ответов. Это указывает на его стремление к исправлению проблемы, хотя он и столкнулся с неожиданной ошибкой типа TypeError."
     ]
    }
   ],
   "source": [
    "async for chunk in client.send_message(bot=bot, message=msg_for_bot):\n",
    "    print(chunk[\"response\"], end='', flush=True)"
   ]
  },
  {
   "cell_type": "code",
   "execution_count": 28,
   "metadata": {},
   "outputs": [
    {
     "data": {
      "text/plain": [
       "{'data': {'sammarisator': [{'chatId': 590281907,\n",
       "    'chatCode': '3gxf96kh3lceurc1tok',\n",
       "    'id': 'Q2hhdDo1OTAyODE5MDc=',\n",
       "    'title': 'Асинки'}]},\n",
       " 'cursor': None}"
      ]
     },
     "execution_count": 28,
     "metadata": {},
     "output_type": "execute_result"
    }
   ],
   "source": [
    "await client.get_chat_history(\"sammarisator\")"
   ]
  },
  {
   "cell_type": "code",
   "execution_count": 30,
   "metadata": {},
   "outputs": [
    {
     "data": {
      "text/plain": [
       "'3gxf96kh3lceurc1tok'"
      ]
     },
     "execution_count": 30,
     "metadata": {},
     "output_type": "execute_result"
    }
   ],
   "source": [
    "chatCode =( await client.get_chat_history(bot))['data']['sammarisator'][0]['chatCode']\n",
    "chatCode"
   ]
  },
  {
   "cell_type": "code",
   "execution_count": 38,
   "metadata": {},
   "outputs": [],
   "source": [
    "await client.chat_break(bot, chatCode=chatCode)"
   ]
  },
  {
   "cell_type": "code",
   "execution_count": 48,
   "metadata": {},
   "outputs": [
    {
     "name": "stdout",
     "output_type": "stream",
     "text": [
      "Ковтун Роман в своем последнем сообщении обсудил проблемы с асинхронными операциями при запуске бота. Он описал два возможных сценария: либо бот начнет отвечать с 10% вероятностью на каждое сообщение, либо очередь будет очищена. Роман также упомянул, что не установил вероятность по умолчанию на 0 сразу, что могло бы помочь избежать ошибок. В итоге он столкнулся с ошибкой TypeError и признал, что допустил ошибку в коде, планируя разобраться с ней позже."
     ]
    },
    {
     "name": "stderr",
     "output_type": "stream",
     "text": [
      "\u001b[32m2024-07-24 01:54:33.427\u001b[0m | \u001b[33m\u001b[1mWARNING \u001b[0m | \u001b[36mpoe_api_wrapper.async_api\u001b[0m:\u001b[36msend_message\u001b[0m:\u001b[36m876\u001b[0m - \u001b[33m\u001b[1mRetrying request 1/3 times...\u001b[0m\n",
      "\u001b[32m2024-07-24 01:54:53.443\u001b[0m | \u001b[33m\u001b[1mWARNING \u001b[0m | \u001b[36mpoe_api_wrapper.async_api\u001b[0m:\u001b[36msend_message\u001b[0m:\u001b[36m876\u001b[0m - \u001b[33m\u001b[1mRetrying request 2/3 times...\u001b[0m\n",
      "\u001b[32m2024-07-24 01:55:13.452\u001b[0m | \u001b[33m\u001b[1mWARNING \u001b[0m | \u001b[36mpoe_api_wrapper.async_api\u001b[0m:\u001b[36msend_message\u001b[0m:\u001b[36m876\u001b[0m - \u001b[33m\u001b[1mRetrying request 3/3 times...\u001b[0m\n"
     ]
    },
    {
     "ename": "RuntimeError",
     "evalue": "Timed out waiting for response.",
     "output_type": "error",
     "traceback": [
      "\u001b[1;31m---------------------------------------------------------------------------\u001b[0m",
      "\u001b[1;31mEmpty\u001b[0m                                     Traceback (most recent call last)",
      "File \u001b[1;32mc:\\max\\py\\bul_bot\\venv\\lib\\site-packages\\poe_api_wrapper\\async_api.py:868\u001b[0m, in \u001b[0;36mAsyncPoeApi.send_message\u001b[1;34m(self, bot, message, chatId, chatCode, msgPrice, file_path, suggest_replies, timeout)\u001b[0m\n\u001b[0;32m    867\u001b[0m \u001b[38;5;28;01mtry\u001b[39;00m:\n\u001b[1;32m--> 868\u001b[0m     ws_data \u001b[38;5;241m=\u001b[39m \u001b[38;5;28;43mself\u001b[39;49m\u001b[38;5;241;43m.\u001b[39;49m\u001b[43mmessage_queues\u001b[49m\u001b[43m[\u001b[49m\u001b[43mchatId\u001b[49m\u001b[43m]\u001b[49m\u001b[38;5;241;43m.\u001b[39;49m\u001b[43mget\u001b[49m\u001b[43m(\u001b[49m\u001b[43mtimeout\u001b[49m\u001b[38;5;241;43m=\u001b[39;49m\u001b[43mtimeout\u001b[49m\u001b[43m)\u001b[49m\n\u001b[0;32m    869\u001b[0m \u001b[38;5;28;01mexcept\u001b[39;00m \u001b[38;5;167;01mKeyError\u001b[39;00m:\n",
      "File \u001b[1;32m~\\AppData\\Local\\Programs\\Python\\Python310\\lib\\queue.py:179\u001b[0m, in \u001b[0;36mQueue.get\u001b[1;34m(self, block, timeout)\u001b[0m\n\u001b[0;32m    178\u001b[0m \u001b[38;5;28;01mif\u001b[39;00m remaining \u001b[38;5;241m<\u001b[39m\u001b[38;5;241m=\u001b[39m \u001b[38;5;241m0.0\u001b[39m:\n\u001b[1;32m--> 179\u001b[0m     \u001b[38;5;28;01mraise\u001b[39;00m Empty\n\u001b[0;32m    180\u001b[0m \u001b[38;5;28mself\u001b[39m\u001b[38;5;241m.\u001b[39mnot_empty\u001b[38;5;241m.\u001b[39mwait(remaining)\n",
      "\u001b[1;31mEmpty\u001b[0m: ",
      "\nDuring handling of the above exception, another exception occurred:\n",
      "\u001b[1;31mRuntimeError\u001b[0m                              Traceback (most recent call last)",
      "Cell \u001b[1;32mIn[48], line 2\u001b[0m\n\u001b[0;32m      1\u001b[0m entire_msg \u001b[38;5;241m=\u001b[39m \u001b[38;5;124m'\u001b[39m\u001b[38;5;124m'\u001b[39m\n\u001b[1;32m----> 2\u001b[0m \u001b[38;5;28;01masync\u001b[39;00m \u001b[38;5;28;01mfor\u001b[39;00m chunk \u001b[38;5;129;01min\u001b[39;00m client\u001b[38;5;241m.\u001b[39msend_message(bot, msg_for_bot, chatCode\u001b[38;5;241m=\u001b[39mchatCode):\n\u001b[0;32m      3\u001b[0m     \u001b[38;5;28mprint\u001b[39m(chunk[\u001b[38;5;124m\"\u001b[39m\u001b[38;5;124mresponse\u001b[39m\u001b[38;5;124m\"\u001b[39m], end\u001b[38;5;241m=\u001b[39m\u001b[38;5;124m\"\u001b[39m\u001b[38;5;124m\"\u001b[39m, flush\u001b[38;5;241m=\u001b[39m\u001b[38;5;28;01mTrue\u001b[39;00m)\n\u001b[0;32m      4\u001b[0m     entire_msg \u001b[38;5;241m+\u001b[39m\u001b[38;5;241m=\u001b[39m chunk[\u001b[38;5;124m'\u001b[39m\u001b[38;5;124mresponse\u001b[39m\u001b[38;5;124m'\u001b[39m]\n",
      "File \u001b[1;32mc:\\max\\py\\bul_bot\\venv\\lib\\site-packages\\poe_api_wrapper\\async_api.py:884\u001b[0m, in \u001b[0;36mAsyncPoeApi.send_message\u001b[1;34m(self, bot, message, chatId, chatCode, msgPrice, file_path, suggest_replies, timeout)\u001b[0m\n\u001b[0;32m    882\u001b[0m         \u001b[38;5;28;01mcontinue\u001b[39;00m\n\u001b[0;32m    883\u001b[0m     \u001b[38;5;28;01mexcept\u001b[39;00m \u001b[38;5;167;01mException\u001b[39;00m \u001b[38;5;28;01mas\u001b[39;00m e:\n\u001b[1;32m--> 884\u001b[0m         \u001b[38;5;28;01mraise\u001b[39;00m e\n\u001b[0;32m    886\u001b[0m \u001b[38;5;28;01mif\u001b[39;00m ws_data[\u001b[38;5;124m\"\u001b[39m\u001b[38;5;124msubscription\u001b[39m\u001b[38;5;124m\"\u001b[39m] \u001b[38;5;241m==\u001b[39m \u001b[38;5;124m\"\u001b[39m\u001b[38;5;124mmessageCancelled\u001b[39m\u001b[38;5;124m\"\u001b[39m:\n\u001b[0;32m    887\u001b[0m     \u001b[38;5;28;01mbreak\u001b[39;00m\n",
      "File \u001b[1;32mc:\\max\\py\\bul_bot\\venv\\lib\\site-packages\\poe_api_wrapper\\async_api.py:880\u001b[0m, in \u001b[0;36mAsyncPoeApi.send_message\u001b[1;34m(self, bot, message, chatId, chatCode, msgPrice, file_path, suggest_replies, timeout)\u001b[0m\n\u001b[0;32m    878\u001b[0m     \u001b[38;5;28mself\u001b[39m\u001b[38;5;241m.\u001b[39mretry_attempts \u001b[38;5;241m=\u001b[39m \u001b[38;5;241m3\u001b[39m\n\u001b[0;32m    879\u001b[0m     \u001b[38;5;28;01mawait\u001b[39;00m \u001b[38;5;28mself\u001b[39m\u001b[38;5;241m.\u001b[39mdelete_queues(chatId)\n\u001b[1;32m--> 880\u001b[0m     \u001b[38;5;28;01mraise\u001b[39;00m \u001b[38;5;167;01mRuntimeError\u001b[39;00m(\u001b[38;5;124m\"\u001b[39m\u001b[38;5;124mTimed out waiting for response.\u001b[39m\u001b[38;5;124m\"\u001b[39m)\n\u001b[0;32m    881\u001b[0m \u001b[38;5;28;01mawait\u001b[39;00m \u001b[38;5;28mself\u001b[39m\u001b[38;5;241m.\u001b[39mconnect_ws()\n\u001b[0;32m    882\u001b[0m \u001b[38;5;28;01mcontinue\u001b[39;00m\n",
      "\u001b[1;31mRuntimeError\u001b[0m: Timed out waiting for response."
     ]
    }
   ],
   "source": [
    "entire_msg = ''\n",
    "await client.chat_break(bot, chatCode=chatCode)\n",
    "async for chunk in client.send_message(bot, msg_for_bot, chatCode=chatCode):\n",
    "    print(chunk[\"response\"], end=\"\", flush=True)\n",
    "    entire_msg += chunk['response']"
   ]
  },
  {
   "cell_type": "code",
   "execution_count": 40,
   "metadata": {},
   "outputs": [],
   "source": [
    "shortener_bot = 'short_summary'"
   ]
  },
  {
   "cell_type": "code",
   "execution_count": 45,
   "metadata": {},
   "outputs": [
    {
     "data": {
      "text/plain": [
       "'3gx75tstt5k86jb8dg7'"
      ]
     },
     "execution_count": 45,
     "metadata": {},
     "output_type": "execute_result"
    }
   ],
   "source": [
    "chatCodeShortener =( await client.get_chat_history(shortener_bot))['data'][shortener_bot][0]['chatCode']\n",
    "chatCodeShortener"
   ]
  },
  {
   "cell_type": "code",
   "execution_count": 46,
   "metadata": {},
   "outputs": [],
   "source": [
    "await client.chat_break(shortener_bot, chatCode=chatCodeShortener)"
   ]
  },
  {
   "cell_type": "code",
   "execution_count": 54,
   "metadata": {},
   "outputs": [
    {
     "name": "stdout",
     "output_type": "stream",
     "text": [
      "Роман Ковтун обсудил проблемы с асинхронными операциями бота, столкнувшись с ошибкой TypeError из-за неверной вероятности ответов."
     ]
    }
   ],
   "source": [
    "await client.chat_break(shortener_bot, chatCode=chatCodeShortener)\n",
    "ent_msg_s = ''\n",
    "async for chunk in client.send_message(shortener_bot, entire_msg, chatCode=chatCodeShortener):\n",
    "    print(chunk[\"response\"], end=\"\", flush=True)\n",
    "    ent_msg_s += chunk['response']"
   ]
  },
  {
   "cell_type": "code",
   "execution_count": 51,
   "metadata": {},
   "outputs": [],
   "source": [
    "mocker_bot = 'mmocker' "
   ]
  },
  {
   "cell_type": "code",
   "execution_count": 52,
   "metadata": {},
   "outputs": [
    {
     "data": {
      "text/plain": [
       "'3gx7h3kuq7ka1otoq2p'"
      ]
     },
     "execution_count": 52,
     "metadata": {},
     "output_type": "execute_result"
    }
   ],
   "source": [
    "chatCodeMock = ( await client.get_chat_history(mocker_bot))['data'][mocker_bot][0]['chatCode']\n",
    "chatCodeMock"
   ]
  },
  {
   "cell_type": "code",
   "execution_count": 59,
   "metadata": {},
   "outputs": [
    {
     "data": {
      "text/plain": [
       "'Максим: я не верил\\nКовтун Роман: у них ограничение на трафик сильное\\nКовтун Роман: но на халяву и уксус — сахар)\\nКовтун Роман: ну вроде бы, я сделал очистку очереди\\nнадо проверить\\nКовтун Роман: сейчас я запущу бота\\nКовтун Роман: и тут есть пара вариантов развития событий\\nКовтун Роман: либо он сейчас начнёт нам отвечать с шансом 10% на каждое сообщение с момента его отключения\\nлибо он всё же отчисти очередь\\nКовтун Роман: о\\nКовтун Роман: ща я просто сделаю шанс по умолчанию 0\\nКовтун Роман: чёт не додумался срзу\\nКовтун Роман: ну погнали\\nКовтун Роман: эх\\nпроизошёл скрытый вариант\\nTypeError(((\\nКовтун Роман: \\nКовтун Роман: что-то налажал с асинками\\nКовтун Роман: потом решу...\\nэто надо вникать в корутины\\n\\nContext of chat: Роман Ковтун обсудил проблемы с асинхронными операциями бота, столкнувшись с ошибкой TypeError из-за неверной вероятности ответов.\\n\\nMake a punch for Ковтун Роман'"
      ]
     },
     "execution_count": 59,
     "metadata": {},
     "output_type": "execute_result"
    }
   ],
   "source": [
    "msg_for_mock = '\\n'.join([f\"{m['name']}: {m['text']}\" for m in msgs[-15:]]) + f'\\n\\nContext of chat: {ent_msg_s}' + f'\\n\\nMake a punch for {msgs[-1][\"name\"]}'\n",
    "msg_for_mock"
   ]
  },
  {
   "cell_type": "code",
   "execution_count": 60,
   "metadata": {},
   "outputs": [
    {
     "name": "stdout",
     "output_type": "stream",
     "text": [
      "Роман, кажется, ты не только асинхронный, но и асинхронно глупый — даже бот тебе не отвечает, а ты всё равно продолжаешь с ним разговаривать!"
     ]
    }
   ],
   "source": [
    "await client.chat_break(mocker_bot, chatCode=chatCodeMock)\n",
    "ent_msg_m = ''\n",
    "async for chunk in client.send_message(mocker_bot, msg_for_mock, chatCode=chatCodeMock):\n",
    "    print(chunk[\"response\"], end=\"\", flush=True)\n",
    "    ent_msg_m += chunk['response']"
   ]
  },
  {
   "cell_type": "code",
   "execution_count": 63,
   "metadata": {},
   "outputs": [
    {
     "name": "stdout",
     "output_type": "stream",
     "text": [
      "Роман, твой бот, похоже, сбежал от твоей гениальности, как от чумы — и это, поверь, очень мудро с его стороны!"
     ]
    }
   ],
   "source": [
    "async for chunk in client.send_message(mocker_bot, \"rephrase it in a more toxic and hurtful way\", chatCode=chatCodeMock):\n",
    "    print(chunk[\"response\"], end=\"\", flush=True)\n"
   ]
  }
 ],
 "metadata": {
  "kernelspec": {
   "display_name": "venv",
   "language": "python",
   "name": "python3"
  },
  "language_info": {
   "codemirror_mode": {
    "name": "ipython",
    "version": 3
   },
   "file_extension": ".py",
   "mimetype": "text/x-python",
   "name": "python",
   "nbconvert_exporter": "python",
   "pygments_lexer": "ipython3",
   "version": "3.10.6"
  }
 },
 "nbformat": 4,
 "nbformat_minor": 2
}
